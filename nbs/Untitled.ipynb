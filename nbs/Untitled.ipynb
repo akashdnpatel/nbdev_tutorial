{
 "cells": [
  {
   "cell_type": "markdown",
   "id": "b7dbc977",
   "metadata": {},
   "source": [
    "# Documentation\n",
    "> more desription"
   ]
  },
  {
   "cell_type": "code",
   "execution_count": null,
   "id": "21a3e330",
   "metadata": {},
   "outputs": [],
   "source": [
    "#| default_exp new"
   ]
  },
  {
   "cell_type": "code",
   "execution_count": null,
   "id": "96d7658a",
   "metadata": {},
   "outputs": [],
   "source": [
    "#| export\n",
    "def method1(a,b):\n",
    "    return a+b"
   ]
  },
  {
   "cell_type": "code",
   "execution_count": null,
   "id": "4963e66f",
   "metadata": {},
   "outputs": [
    {
     "data": {
      "text/plain": [
       "7"
      ]
     },
     "execution_count": null,
     "metadata": {},
     "output_type": "execute_result"
    }
   ],
   "source": [
    "method1(2,5)"
   ]
  },
  {
   "cell_type": "code",
   "execution_count": null,
   "id": "d9d2fa27",
   "metadata": {},
   "outputs": [],
   "source": []
  }
 ],
 "metadata": {
  "kernelspec": {
   "display_name": "Python 3 (ipykernel)",
   "language": "python",
   "name": "python3"
  }
 },
 "nbformat": 4,
 "nbformat_minor": 5
}
