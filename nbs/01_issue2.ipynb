{
 "cells": [
  {
   "cell_type": "markdown",
   "id": "dfa753eb",
   "metadata": {},
   "source": [
    "# Issue 2 details here\n",
    "> more details."
   ]
  },
  {
   "cell_type": "code",
   "execution_count": null,
   "id": "47e016a6",
   "metadata": {},
   "outputs": [],
   "source": [
    "#| default_exp issue2"
   ]
  },
  {
   "cell_type": "code",
   "execution_count": null,
   "id": "fa13b6c7",
   "metadata": {},
   "outputs": [],
   "source": [
    "#| export\n",
    "import pandas as pd"
   ]
  },
  {
   "cell_type": "code",
   "execution_count": null,
   "id": "1fa0f3fc",
   "metadata": {},
   "outputs": [],
   "source": [
    "#| export\n",
    "def some_method(a,b):\n",
    "    return a+b"
   ]
  },
  {
   "cell_type": "code",
   "execution_count": null,
   "id": "29aa87e7",
   "metadata": {},
   "outputs": [],
   "source": [
    "#| export\n",
    "class methods:\n",
    "    def __init__(self,a):\n",
    "        self.a = a\n",
    "    def sum_method(self, b):\n",
    "        return self.a + b"
   ]
  },
  {
   "cell_type": "code",
   "execution_count": null,
   "id": "fd94cbad",
   "metadata": {},
   "outputs": [
    {
     "data": {
      "text/plain": [
       "15"
      ]
     },
     "execution_count": null,
     "metadata": {},
     "output_type": "execute_result"
    }
   ],
   "source": [
    "ob1 = methods(5)\n",
    "sum_value = ob1.sum_method(10)\n",
    "sum_value"
   ]
  },
  {
   "cell_type": "code",
   "execution_count": null,
   "id": "e7c09339",
   "metadata": {},
   "outputs": [],
   "source": []
  }
 ],
 "metadata": {
  "kernelspec": {
   "display_name": "Python 3 (ipykernel)",
   "language": "python",
   "name": "python3"
  }
 },
 "nbformat": 4,
 "nbformat_minor": 5
}
