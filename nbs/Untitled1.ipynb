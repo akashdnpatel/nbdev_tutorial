{
 "cells": [
  {
   "cell_type": "code",
   "execution_count": null,
   "id": "d0d3afcc",
   "metadata": {},
   "outputs": [],
   "source": [
    "from nbdev_tutorial import new"
   ]
  },
  {
   "cell_type": "code",
   "execution_count": null,
   "id": "057c073f",
   "metadata": {},
   "outputs": [
    {
     "data": {
      "text/plain": [
       "9"
      ]
     },
     "execution_count": null,
     "metadata": {},
     "output_type": "execute_result"
    }
   ],
   "source": [
    "new.method1(4,5)"
   ]
  },
  {
   "cell_type": "code",
   "execution_count": null,
   "id": "51ceabe4",
   "metadata": {},
   "outputs": [],
   "source": []
  }
 ],
 "metadata": {
  "kernelspec": {
   "display_name": "Python 3 (ipykernel)",
   "language": "python",
   "name": "python3"
  }
 },
 "nbformat": 4,
 "nbformat_minor": 5
}
