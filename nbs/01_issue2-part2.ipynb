{
 "cells": [
  {
   "cell_type": "markdown",
   "id": "dfa753eb",
   "metadata": {},
   "source": [
    "# Issue 2 - part 2 details here\n",
    "> more details."
   ]
  },
  {
   "cell_type": "code",
   "execution_count": null,
   "id": "47e016a6",
   "metadata": {},
   "outputs": [],
   "source": [
    "#| default_exp issue2_part2"
   ]
  },
  {
   "cell_type": "code",
   "execution_count": null,
   "id": "fa13b6c7",
   "metadata": {},
   "outputs": [],
   "source": [
    "#| export\n",
    "import pandas as pd\n",
    "from nbdev_tutorial import issue2"
   ]
  },
  {
   "cell_type": "code",
   "execution_count": null,
   "id": "fd94cbad",
   "metadata": {},
   "outputs": [
    {
     "data": {
      "text/plain": [
       "25"
      ]
     },
     "execution_count": null,
     "metadata": {},
     "output_type": "execute_result"
    }
   ],
   "source": [
    "ob2 = issue2.methods(5)\n",
    "sum_value = ob2.sum_method(20)\n",
    "sum_value"
   ]
  },
  {
   "cell_type": "code",
   "execution_count": null,
   "id": "e7c09339",
   "metadata": {},
   "outputs": [],
   "source": []
  }
 ],
 "metadata": {
  "kernelspec": {
   "display_name": "Python 3 (ipykernel)",
   "language": "python",
   "name": "python3"
  }
 },
 "nbformat": 4,
 "nbformat_minor": 5
}
